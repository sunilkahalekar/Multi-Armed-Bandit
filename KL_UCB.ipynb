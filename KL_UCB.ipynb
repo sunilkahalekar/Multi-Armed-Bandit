{
  "nbformat": 4,
  "nbformat_minor": 0,
  "metadata": {
    "colab": {
      "name": "KL-UCB.ipynb",
      "provenance": []
    },
    "kernelspec": {
      "name": "python3",
      "display_name": "Python 3"
    },
    "language_info": {
      "name": "python"
    }
  },
  "cells": [
    {
      "cell_type": "markdown",
      "metadata": {
        "id": "-JjlFECEQejN"
      },
      "source": [
        "# KL- UCB Algorithm"
      ]
    },
    {
      "cell_type": "code",
      "metadata": {
        "id": "0kRkJ5hwCo18"
      },
      "source": [
        "import numpy as np\n",
        "import math\n",
        "import sys\n",
        "import matplotlib.pyplot as plt\n",
        "import scipy.stats as ss\n",
        "\n",
        "p=0.5\n",
        "T = 25000\n",
        "k = 5\n",
        "alpha = 1.5\n",
        "num_sample_paths = 20\n",
        "numArms = k\n",
        "num_arms = 5\n",
        "\n",
        "def select_arm(arm):\n",
        "    if arm == 0:\n",
        "      return np.random.binomial(1, 0.4)\n",
        "    if arm == 1:\n",
        "      return np.random.binomial(1, 0.3)\n",
        "    if arm == 2:\n",
        "      return np.random.binomial(1, 0.5)\n",
        "    if arm == 3:\n",
        "      return np.random.binomial(1, 0.5)\n",
        "    if arm == 4:\n",
        "      return np.random.binomial(1, 0.1)\n",
        "  \n",
        "\n",
        "\n",
        "def divergence(p,q):\n",
        "\tif p==0:\n",
        "\t\tif q==1:\n",
        "\t\t\treturn math.inf\n",
        "\t\telse:\n",
        "\t\t\treturn (1-p)*math.log((1-p)/(1-q))\n",
        "\n",
        "\telif p==1:\n",
        "\t\tif q==0:\n",
        "\t\t\treturn math.inf\n",
        "\t\telse:\n",
        "\t\t\treturn p*math.log(p/q)\n",
        "\telse:\n",
        "\t\treturn (p*math.log(p/q)+(1-p)*math.log((1-p)/(1-q)))\n",
        "\n",
        "def updateQMax(counts, rounds_until_now, mu_hat):\n",
        "  #eMeanUpdate(reward, pArmPulled);\n",
        "\tdelta = 1e-2;\n",
        "\tepsilon = 1e-4;\n",
        "\tqMax = np.zeros(numArms)\n",
        "\tfor i in range(numArms):\n",
        "\t\tp = mu_hat[i]\n",
        "\t\tprev = p\n",
        "\t\tend = 1\n",
        "\t\tif p==1:\n",
        "\t\t\tqMax[i] = 1\n",
        "\t\telse:\n",
        "\t\t\twhile 1:\n",
        "\t\t\t\tmid = (prev+end)/2\n",
        "\t\t\t\tkl = divergence(p,mid)\n",
        "\t\t\t\trhs = np.log(rounds_until_now)/counts[i]\n",
        "\t\t\t\tif abs(kl - rhs) < epsilon:\n",
        "\t\t\t\t\tbreak\n",
        "\t\t\t\tif kl-rhs<0:\n",
        "\t\t\t\t\tprev = mid\n",
        "\t\t\t\telse:\n",
        "\t\t\t\t\tend = mid\n",
        "\t\t\tqMax[i] = mid\n",
        "\treturn qMax"
      ],
      "execution_count": null,
      "outputs": []
    },
    {
      "cell_type": "code",
      "metadata": {
        "id": "qCPvcGIiCyEq"
      },
      "source": [
        "def kl_ucb(num_arms, total_rounds):\n",
        "\tk = num_arms\n",
        "\teps = [0]*k\n",
        "\tqMax = np.zeros(k) \n",
        "\tcounts = np.zeros(k)\n",
        "\tvalues = np.zeros(k)\n",
        "\tloss = np.zeros(k)\n",
        "\tx = np.zeros(k)\n",
        "\tnx = np.ones(k)\n",
        "\tmax_mu = p\n",
        "\t# min_mu\n",
        "\tcumulativeReward = 0\n",
        "\tmu_hat = np.zeros(k)\n",
        "\n",
        "\tregret = np.zeros(total_rounds)\n",
        "\t\n",
        "\n",
        "\tfor explore in range(k):\n",
        "\t\tIt = explore\n",
        "\t\treward = select_arm(It)\n",
        "\t\tvalues[It] += reward\n",
        "\t\tloss[It] += 1-reward\n",
        "\t\tcounts[It] +=1\n",
        "\t\tcumulativeReward += reward\n",
        "\t\t\n",
        "\tmu_hat = values/counts\n",
        "\tqMax = updateQMax(counts, k, mu_hat)\n",
        "\n",
        "\tfor t in range(k, total_rounds):\n",
        "\n",
        "\t\tqMax = updateQMax(counts, t, mu_hat)\n",
        "\t\tAj = np.argmax(qMax)\n",
        "\t\treward = select_arm(Aj)\n",
        "\t\tvalues[Aj] += reward\n",
        "\t\tcounts[Aj] += 1\n",
        "\n",
        "\t\tmu_hat = values/counts\n",
        "\t\tcumulativeReward += reward\n",
        "\n",
        "\t\tregret[t] += regret[t-1] + max_mu -(mu_hat[Aj])\n",
        "\n",
        "\treturn regret"
      ],
      "execution_count": null,
      "outputs": []
    },
    {
      "cell_type": "code",
      "metadata": {
        "id": "z9wjNyZNC7Wp"
      },
      "source": [
        "#cum_regret1 = []\n",
        "#cum_regret2 = []\n",
        "cum_regret3 = []\n",
        "#cum_regret4 = []\n",
        "\n",
        "for i in range(num_sample_paths):\n",
        "\t#cum_regret1.append(e_greedy(T))\n",
        "\t#cum_regret2.append(ucb(k,T))\n",
        "\tcum_regret3.append(kl_ucb(k,T))\n",
        "\t#cum_regret4.append(thompson(k,T))\n"
      ],
      "execution_count": null,
      "outputs": []
    },
    {
      "cell_type": "code",
      "metadata": {
        "id": "MimwW9E5DHLl"
      },
      "source": [
        "time = 100*np.arange(T/100)\n",
        "freedom_degree = len(time) - 1 #250 - 1\n"
      ],
      "execution_count": null,
      "outputs": []
    },
    {
      "cell_type": "code",
      "metadata": {
        "colab": {
          "base_uri": "https://localhost:8080/",
          "height": 282
        },
        "id": "n7OMrVEPDuKg",
        "outputId": "e80d770e-0441-48f5-8fce-024ceafb5576"
      },
      "source": [
        "regret_mean = []\n",
        "regret_err = []\n",
        "t1=int(T/100)\n",
        "R = np.zeros((num_sample_paths, t1))\n",
        "for j in range(num_sample_paths):\n",
        "\tfor i in range(t1):\n",
        "\t\tR[j][i] = cum_regret3[j][100*(i+1)-1]\n",
        "\n",
        "regret_mean = R.mean(axis=0)\n",
        "for i in range(t1):\n",
        "\tregret_err.append(ss.t.ppf(0.95, freedom_degree) * ss.sem(R[:,i]))\n",
        "\tregret_err[i] = regret_err[i]*(i%25==0)\n",
        "\n",
        "colors = list(\"rgbcmyk\")\n",
        "shape = ['--^', '--d', '--v', '--x']\n",
        "\n",
        "plt.errorbar(time, regret_mean, regret_err, color=colors[2])\n",
        "plt.plot(time, regret_mean, colors[2] + shape[2], label='kl_ucb')"
      ],
      "execution_count": null,
      "outputs": [
        {
          "output_type": "execute_result",
          "data": {
            "text/plain": [
              "[<matplotlib.lines.Line2D at 0x7f0f51503050>]"
            ]
          },
          "metadata": {
            "tags": []
          },
          "execution_count": 18
        },
        {
          "output_type": "display_data",
          "data": {
            "image/png": "[encoded data removed]",
            "text/plain": [
              "<Figure size 432x288 with 1 Axes>"
            ]
          },
          "metadata": {
            "tags": [],
            "needs_background": "light"
          }
        }
      ]
    },
    {
      "cell_type": "code",
      "metadata": {
        "id": "eO_f9TVsIZBM"
      },
      "source": [
        ""
      ],
      "execution_count": null,
      "outputs": []
    }
  ]
}